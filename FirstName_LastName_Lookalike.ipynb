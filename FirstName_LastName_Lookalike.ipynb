{
 "cells": [
  {
   "cell_type": "code",
   "execution_count": 2,
   "id": "fa3f2c49",
   "metadata": {},
   "outputs": [],
   "source": [
    "import pandas as pd\n",
    "import numpy as np\n",
    "import matplotlib.pyplot as plt\n",
    "import seaborn as sns"
   ]
  },
  {
   "cell_type": "code",
   "execution_count": 3,
   "id": "1fe15b4d",
   "metadata": {},
   "outputs": [
    {
     "name": "stdout",
     "output_type": "stream",
     "text": [
      "<class 'pandas.core.frame.DataFrame'>\n",
      "RangeIndex: 200 entries, 0 to 199\n",
      "Data columns (total 4 columns):\n",
      " #   Column        Non-Null Count  Dtype \n",
      "---  ------        --------------  ----- \n",
      " 0   CustomerID    200 non-null    object\n",
      " 1   CustomerName  200 non-null    object\n",
      " 2   Region        200 non-null    object\n",
      " 3   SignupDate    200 non-null    object\n",
      "dtypes: object(4)\n",
      "memory usage: 6.4+ KB\n",
      "None\n",
      "<class 'pandas.core.frame.DataFrame'>\n",
      "RangeIndex: 100 entries, 0 to 99\n",
      "Data columns (total 4 columns):\n",
      " #   Column       Non-Null Count  Dtype  \n",
      "---  ------       --------------  -----  \n",
      " 0   ProductID    100 non-null    object \n",
      " 1   ProductName  100 non-null    object \n",
      " 2   Category     100 non-null    object \n",
      " 3   Price        100 non-null    float64\n",
      "dtypes: float64(1), object(3)\n",
      "memory usage: 3.2+ KB\n",
      "None\n",
      "<class 'pandas.core.frame.DataFrame'>\n",
      "RangeIndex: 1000 entries, 0 to 999\n",
      "Data columns (total 7 columns):\n",
      " #   Column           Non-Null Count  Dtype  \n",
      "---  ------           --------------  -----  \n",
      " 0   TransactionID    1000 non-null   object \n",
      " 1   CustomerID       1000 non-null   object \n",
      " 2   ProductID        1000 non-null   object \n",
      " 3   TransactionDate  1000 non-null   object \n",
      " 4   Quantity         1000 non-null   int64  \n",
      " 5   TotalValue       1000 non-null   float64\n",
      " 6   Price            1000 non-null   float64\n",
      "dtypes: float64(2), int64(1), object(4)\n",
      "memory usage: 54.8+ KB\n",
      "None\n",
      "CustomerID      0\n",
      "CustomerName    0\n",
      "Region          0\n",
      "SignupDate      0\n",
      "dtype: int64\n",
      "ProductID      0\n",
      "ProductName    0\n",
      "Category       0\n",
      "Price          0\n",
      "dtype: int64\n",
      "TransactionID      0\n",
      "CustomerID         0\n",
      "ProductID          0\n",
      "TransactionDate    0\n",
      "Quantity           0\n",
      "TotalValue         0\n",
      "Price              0\n",
      "dtype: int64\n"
     ]
    }
   ],
   "source": [
    "# Load the datasets\n",
    "customers = pd.read_csv(r\"C:\\Users\\ziniy\\Downloads\\Customers.csv\")\n",
    "products = pd.read_csv(r\"C:\\Users\\ziniy\\Downloads\\Products.csv\")\n",
    "transactions = pd.read_csv(r\"C:\\Users\\ziniy\\Downloads\\Transactions.csv\")\n",
    "\n",
    "# Inspect datasets\n",
    "print(customers.info())\n",
    "print(products.info())\n",
    "print(transactions.info())\n",
    "\n",
    "# Check for missing values\n",
    "print(customers.isnull().sum())\n",
    "print(products.isnull().sum())\n",
    "print(transactions.isnull().sum())\n",
    "\n",
    "# Merge datasets for a comprehensive view\n",
    "data = transactions.merge(customers, on=\"CustomerID\").merge(products, on=\"ProductID\")\n"
   ]
  },
  {
   "cell_type": "code",
   "execution_count": 4,
   "id": "4b4d1d35",
   "metadata": {},
   "outputs": [
    {
     "name": "stdout",
     "output_type": "stream",
     "text": [
      "  CustomerID Lookalike1    Score1 Lookalike2    Score2 Lookalike3    Score3\n",
      "0      C0001      C0085  0.999999      C0042  0.999822      C0089  0.999785\n",
      "1      C0002      C0157  0.999994      C0166  0.999875      C0029  0.999825\n",
      "2      C0003      C0111  0.994008      C0160  0.990455      C0147  0.987638\n",
      "3      C0004      C0162  1.000000      C0165  0.999959      C0090  0.998641\n",
      "4      C0005      C0080  0.999982      C0167  0.999975      C0177  0.999928\n"
     ]
    }
   ],
   "source": [
    "import pandas as pd\n",
    "from sklearn.metrics.pairwise import cosine_similarity\n",
    "from sklearn.preprocessing import StandardScaler\n",
    "\n",
    "# Load the data (assuming it's already merged in 'data' variable)\n",
    "# If not, merge the relevant DataFrames as needed.\n",
    "# data = pd.merge(transactions, customers, on=\"CustomerID\", how=\"left\")\n",
    "# data = pd.merge(data, products, on=\"ProductID\", how=\"left\")\n",
    "\n",
    "# Feature engineering (TotalValue and Quantity per customer)\n",
    "customer_features = data.groupby('CustomerID').agg({\n",
    "    'TotalValue': 'sum',\n",
    "    'Quantity': 'sum',\n",
    "}).reset_index()\n",
    "\n",
    "# Normalize the features (important for cosine similarity)\n",
    "scaler = StandardScaler()\n",
    "features_normalized = scaler.fit_transform(customer_features[['TotalValue', 'Quantity']])\n",
    "\n",
    "# Calculate similarity using cosine similarity\n",
    "similarity_matrix = cosine_similarity(features_normalized)\n",
    "\n",
    "# Create a dictionary to hold the lookalikes and their similarity scores\n",
    "lookalikes = {}\n",
    "\n",
    "# Get top 3 similar customers for each customer\n",
    "for i, customer_id in enumerate(customer_features['CustomerID']):\n",
    "    sim_scores = list(enumerate(similarity_matrix[i]))\n",
    "    \n",
    "    # Sort by similarity scores in descending order and skip the first entry (self-comparison)\n",
    "    sim_scores = sorted(sim_scores, key=lambda x: x[1], reverse=True)\n",
    "    top_similar = [(customer_features['CustomerID'][x[0]], x[1]) for x in sim_scores[1:4]]  # Skip self\n",
    "    \n",
    "    # Store the results in the dictionary\n",
    "    lookalikes[customer_id] = top_similar\n",
    "\n",
    "# Prepare the data for saving into a DataFrame\n",
    "lookalike_list = []\n",
    "\n",
    "for customer_id, similar_customers in lookalikes.items():\n",
    "    row = {\n",
    "        'CustomerID': customer_id,\n",
    "        'Lookalike1': similar_customers[0][0], 'Score1': similar_customers[0][1],\n",
    "        'Lookalike2': similar_customers[1][0], 'Score2': similar_customers[1][1],\n",
    "        'Lookalike3': similar_customers[2][0], 'Score3': similar_customers[2][1]\n",
    "    }\n",
    "    lookalike_list.append(row)\n",
    "\n",
    "# Create a DataFrame from the list of dictionaries\n",
    "lookalike_df = pd.DataFrame(lookalike_list)\n",
    "\n",
    "# Output the DataFrame to CSV\n",
    "lookalike_df.to_csv(\"Lookalike.csv\", index=False)\n",
    "\n",
    "# Display a sample of the output for verification\n",
    "print(lookalike_df.head())\n"
   ]
  },
  {
   "cell_type": "code",
   "execution_count": 5,
   "id": "8a2a8b7c",
   "metadata": {},
   "outputs": [
    {
     "name": "stdout",
     "output_type": "stream",
     "text": [
      "Lookalike model output saved to 'Lookalike.csv'\n"
     ]
    }
   ],
   "source": [
    "import pandas as pd\n",
    "\n",
    "# Sample data\n",
    "data = {\n",
    "    'CustomerID': ['C0001', 'C0002', 'C0003', 'C0004', 'C0005'],\n",
    "    'Lookalike1': ['C0085', 'C0157', 'C0111', 'C0162', 'C0080'],\n",
    "    'Score1': [0.999999, 0.999994, 0.994008, 1.000000, 0.999982],\n",
    "    'Lookalike2': ['C0042', 'C0166', 'C0160', 'C0165', 'C0167'],\n",
    "    'Score2': [0.999822, 0.999875, 0.990455, 0.999959, 0.999975],\n",
    "    'Lookalike3': ['C0089', 'C0029', 'C0147', 'C0090', 'C0177'],\n",
    "    'Score3': [0.999785, 0.999825, 0.987638, 0.998641, 0.999928],\n",
    "}\n",
    "\n",
    "# Create the DataFrame\n",
    "lookalike_df = pd.DataFrame(data)\n",
    "\n",
    "# Save to CSV\n",
    "lookalike_df.to_csv(\"Lookalike.csv\", index=False)\n",
    "\n",
    "print(\"Lookalike model output saved to 'Lookalike.csv'\")\n"
   ]
  },
  {
   "cell_type": "code",
   "execution_count": 7,
   "id": "f820f2c0",
   "metadata": {},
   "outputs": [
    {
     "name": "stdout",
     "output_type": "stream",
     "text": [
      "Lookalike model output saved to your Desktop.\n"
     ]
    }
   ],
   "source": [
    "# Replace <YourUsername> with your actual username\n",
    "lookalike_df.to_csv(r\"C:\\Users\\ziniy\\Downloads\\Lookalike.csv\", index=False)\n",
    "\n",
    "print(\"Lookalike model output saved to your Desktop.\")\n"
   ]
  }
 ],
 "metadata": {
  "kernelspec": {
   "display_name": "Python 3 (ipykernel)",
   "language": "python",
   "name": "python3"
  },
  "language_info": {
   "codemirror_mode": {
    "name": "ipython",
    "version": 3
   },
   "file_extension": ".py",
   "mimetype": "text/x-python",
   "name": "python",
   "nbconvert_exporter": "python",
   "pygments_lexer": "ipython3",
   "version": "3.10.9"
  }
 },
 "nbformat": 4,
 "nbformat_minor": 5
}
